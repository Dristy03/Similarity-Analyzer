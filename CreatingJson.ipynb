{
 "cells": [
  {
   "cell_type": "code",
   "execution_count": 1,
   "metadata": {},
   "outputs": [],
   "source": [
    "import pandas as pd\n",
    "import numpy as np\n",
    "import re\n",
    "import json\n",
    "import os\n"
   ]
  },
  {
   "cell_type": "code",
   "execution_count": 3,
   "metadata": {},
   "outputs": [],
   "source": [
    "PATH = os.path.dirname(os.path.realpath('__file__'))"
   ]
  },
  {
   "cell_type": "code",
   "execution_count": 4,
   "metadata": {},
   "outputs": [],
   "source": [
    "def cleanText(Text):\n",
    "    # Remove new lines within message\n",
    "    cleanedText = Text.replace('\\n',' ').lower()\n",
    "    # Deal with some weird tokens\n",
    "    cleanedText = cleanedText.replace(\"\\xc2\\xa0\", \"\")\n",
    "    # Remove punctuation\n",
    "    cleanedText = re.sub('([,])','', cleanedText)\n",
    "    # Remove multiple spaces in message\n",
    "    cleanedText = re.sub(' +',' ', cleanedText)\n",
    "    cleanedText = cleanedText.encode('ascii', 'ignore').decode('ascii')\n",
    "    return cleanedText"
   ]
  },
  {
   "cell_type": "code",
   "execution_count": 9,
   "metadata": {},
   "outputs": [],
   "source": [
    "def getData():\n",
    "    df = pd.read_csv(PATH + '/plagcheckfile.csv')\n",
    "    listTexts = df['Text'].values.tolist()\n",
    "    finallist=[]\n",
    "    print(listTexts)\n",
    "    for i in range (0,4):\n",
    "        textDictionary = {\"tag\":i}\n",
    "        listTexts_i = cleanText(listTexts[i])\n",
    "        print(listTexts_i)\n",
    "        textDictionary.update(texts = listTexts_i)\n",
    "        finallist.append(textDictionary)\n",
    "    finalDictionary={\"intents\":finallist}       \n",
    "    return finalDictionary"
   ]
  },
  {
   "cell_type": "code",
   "execution_count": null,
   "metadata": {},
   "outputs": [],
   "source": [
    "combinedDictionary = dict()\n",
    "print ('Getting Text Data')\n",
    "combinedDictionary.update(getData())\n",
    "print ('Total len of dictionary', len(combinedDictionary))\n",
    "\n",
    "print ('Saving text data dictionary')\n",
    "np.save(PATH + '\\\\textDictionary.npy', combinedDictionary)\n",
    "\n",
    "with open(PATH + '\\\\file.txt', 'w') as file:\n",
    "     file.write(json.dumps(combinedDictionary))"
   ]
  }
 ],
 "metadata": {
  "interpreter": {
   "hash": "c6c6997f7e37e6f8c76f5b26962cb660ccbb78f7e53c030cd3d7dae3ca94b3a1"
  },
  "kernelspec": {
   "display_name": "Python 3.9.13 ('base')",
   "language": "python",
   "name": "python3"
  },
  "language_info": {
   "codemirror_mode": {
    "name": "ipython",
    "version": 3
   },
   "file_extension": ".py",
   "mimetype": "text/x-python",
   "name": "python",
   "nbconvert_exporter": "python",
   "pygments_lexer": "ipython3",
   "version": "3.9.13"
  },
  "orig_nbformat": 4
 },
 "nbformat": 4,
 "nbformat_minor": 2
}
